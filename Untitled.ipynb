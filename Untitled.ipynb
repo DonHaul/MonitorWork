{
 "cells": [
  {
   "cell_type": "code",
   "execution_count": 56,
   "metadata": {},
   "outputs": [],
   "source": [
    "import  win32gui\n",
    "import psutil, win32process\n",
    "\n",
    "import logging\n",
    "\n",
    "from  openpyxl import load_workbook , Workbook\n",
    "\n",
    "from pandas import DataFrame, to_datetime\n",
    "# Load the Pandas libraries with alias 'pd' \n",
    "\n",
    "import json\n",
    "import time\n",
    "import os\n",
    "import sys\n",
    "from pynput.keyboard import Listener\n",
    "\n",
    "import datetime\n",
    "\n",
    "from win10toast import ToastNotifier\n",
    "\n",
    "from infi.systray import SysTrayIcon\n",
    "\n",
    "\n",
    "outputs=\"./dist/Outputs/Med.xlsx\"\n",
    "classesfile=\"./dist/info.json\"\n",
    "\n",
    "import pandas as pd\n",
    "import numpy as np"
   ]
  },
  {
   "cell_type": "code",
   "execution_count": 49,
   "metadata": {},
   "outputs": [],
   "source": [
    "def DisplayDailyStats(ws1,interval):\n",
    "    \n",
    "\n",
    "    print(strvals)\n",
    "\n"
   ]
  },
  {
   "cell_type": "code",
   "execution_count": 139,
   "metadata": {},
   "outputs": [
    {
     "name": "stdout",
     "output_type": "stream",
     "text": [
      "Category\n",
      "Uncategorized   00:44:52\n",
      "clynx           00:09:37\n",
      "ig              00:05:23\n",
      "Name: Interval, dtype: timedelta64[ns]\n"
     ]
    },
    {
     "name": "stderr",
     "output_type": "stream",
     "text": [
      "d:\\libs\\python\\python37\\lib\\site-packages\\ipykernel_launcher.py:49: SettingWithCopyWarning: \n",
      "A value is trying to be set on a copy of a slice from a DataFrame.\n",
      "Try using .loc[row_indexer,col_indexer] = value instead\n",
      "\n",
      "See the caveats in the documentation: https://pandas.pydata.org/pandas-docs/stable/user_guide/indexing.html#returning-a-view-versus-a-copy\n"
     ]
    }
   ],
   "source": [
    "#loads classes and words in it\n",
    "with open(classesfile, 'r') as f:\n",
    "    classes = json.load(f)\n",
    "\n",
    "wb = load_workbook(outputs)\n",
    "\n",
    "\n",
    "#notificationthread.raise_exception()\n",
    "\n",
    "\n",
    "\n",
    "#fetch first sheet\n",
    "ws1 = wb.active\n",
    "\n",
    "\n",
    "'''\n",
    "Displays the category statistics for the day\n",
    "'''\n",
    "\n",
    "#Calculate them here:\n",
    "data = ws1.values\n",
    "# Get the first line in file as a header line\n",
    "columns = next(data)[0:]\n",
    "# Create a DataFrame based on the second and subsequent lines of data\n",
    "df = DataFrame(data, columns=columns)\n",
    "\n",
    "df.fillna(value=\"Uncategorized\", inplace=True)\n",
    "\n",
    "#make sure time is in datetime\n",
    "df['Time'] = to_datetime(df['Time'],dayfirst=True)  \n",
    "\n",
    "\n",
    "#set time range for the current day\n",
    "start_date= datetime.datetime.now().replace(hour=0, minute=0, second=0, microsecond=0)\n",
    "end_date = start_date+datetime.timedelta(hours=1) \n",
    "\n",
    "\n",
    "\n",
    "#set time range mask\n",
    "mask = (df['Time'] >start_date ) & (df['Time'] <= end_date )\n",
    "\n",
    "#get relevant events\n",
    "df1 = df.loc[mask]\n",
    "\n",
    "\n",
    "\n",
    "\n",
    "#create the time interval between each intervla and the next\n",
    "df1['Interval'] = df1['Time'].shift(-1) - df1['Time']\n",
    "\n",
    "#count ocurrences for each categorey\n",
    "stats = df1.groupby(['Category'])['Interval']\n",
    "\n",
    "\n",
    "print(stats.sum())\n"
   ]
  },
  {
   "cell_type": "code",
   "execution_count": 138,
   "metadata": {},
   "outputs": [
    {
     "name": "stdout",
     "output_type": "stream",
     "text": [
      "Uncategorized 00:44:52\n",
      "clynx 00:09:37\n",
      "ig 00:05:23\n"
     ]
    }
   ],
   "source": []
  },
  {
   "cell_type": "code",
   "execution_count": 103,
   "metadata": {},
   "outputs": [
    {
     "data": {
      "text/plain": [
       "Category\n",
       "Uncategorized   00:44:52\n",
       "clynx           00:09:37\n",
       "ig              00:05:23\n",
       "Name: Interval, dtype: timedelta64[ns]"
      ]
     },
     "execution_count": 103,
     "metadata": {},
     "output_type": "execute_result"
    }
   ],
   "source": [
    "stats.sum()"
   ]
  },
  {
   "cell_type": "code",
   "execution_count": null,
   "metadata": {},
   "outputs": [],
   "source": []
  }
 ],
 "metadata": {
  "kernelspec": {
   "display_name": "Python 3",
   "language": "python",
   "name": "python3"
  },
  "language_info": {
   "codemirror_mode": {
    "name": "ipython",
    "version": 3
   },
   "file_extension": ".py",
   "mimetype": "text/x-python",
   "name": "python",
   "nbconvert_exporter": "python",
   "pygments_lexer": "ipython3",
   "version": "3.7.7"
  }
 },
 "nbformat": 4,
 "nbformat_minor": 4
}
